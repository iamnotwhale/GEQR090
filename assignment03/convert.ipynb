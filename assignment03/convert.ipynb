{
 "cells": [
  {
   "cell_type": "code",
   "execution_count": 1,
   "metadata": {},
   "outputs": [],
   "source": [
    "def is_hangeul(ch):\n",
    "    return ord('가') <= ord(ch) <= ord('힣')"
   ]
  },
  {
   "cell_type": "code",
   "execution_count": 2,
   "metadata": {},
   "outputs": [
    {
     "data": {
      "text/plain": [
       "True"
      ]
     },
     "execution_count": 2,
     "metadata": {},
     "output_type": "execute_result"
    }
   ],
   "source": [
    "is_hangeul('바')"
   ]
  },
  {
   "cell_type": "code",
   "execution_count": 3,
   "metadata": {},
   "outputs": [
    {
     "data": {
      "text/plain": [
       "False"
      ]
     },
     "execution_count": 3,
     "metadata": {},
     "output_type": "execute_result"
    }
   ],
   "source": [
    "is_hangeul('3')"
   ]
  },
  {
   "cell_type": "code",
   "execution_count": 7,
   "metadata": {},
   "outputs": [],
   "source": [
    "outfp = open('temp', 'wt')\n",
    "with open('sound2.txt') as fp:\n",
    "    for line in fp:\n",
    "        for ch in line:\n",
    "            if not is_hangeul(ch):\n",
    "                print(ch, file=outfp)\n",
    "outfp.close()"
   ]
  },
  {
   "cell_type": "code",
   "execution_count": 8,
   "metadata": {},
   "outputs": [],
   "source": [
    "def extract_hangeul(str):\n",
    "    result = ''\n",
    "    for ch in str:\n",
    "        if is_hangeul(ch):\n",
    "            result += ch\n",
    "    return result"
   ]
  },
  {
   "cell_type": "code",
   "execution_count": 9,
   "metadata": {},
   "outputs": [],
   "source": [
    "outfp = open('sound3.txt', 'wt')\n",
    "with open('sound2.txt') as fp:\n",
    "    for line in fp:\n",
    "        print(extract_hangeul(line), file=outfp)\n",
    "outfp.close()"
   ]
  },
  {
   "cell_type": "code",
   "execution_count": 20,
   "metadata": {},
   "outputs": [],
   "source": [
    "outfp = open('test/hanja.txt', 'wt')\n",
    "with open('test/code2.txt') as fp:\n",
    "    for line in fp:\n",
    "        print(chr(int(line, base=16)), file=outfp)\n",
    "outfp.close()"
   ]
  },
  {
   "cell_type": "code",
   "execution_count": 15,
   "metadata": {},
   "outputs": [],
   "source": [
    "hanja2hangeul_table = dict()\n",
    "with open('hanja-hangeul.txt') as fp:\n",
    "    for line in fp:\n",
    "        hanja, sound = line.split()\n",
    "        hanja2hangeul_table[hanja] = sound"
   ]
  },
  {
   "cell_type": "code",
   "execution_count": 16,
   "metadata": {},
   "outputs": [
    {
     "data": {
      "text/plain": [
       "27845"
      ]
     },
     "execution_count": 16,
     "metadata": {},
     "output_type": "execute_result"
    }
   ],
   "source": [
    "len(hanja2hangeul_table)"
   ]
  },
  {
   "cell_type": "code",
   "execution_count": 19,
   "metadata": {},
   "outputs": [],
   "source": [
    "with open('hanja2hangeul_table.py', 'wt') as fp:\n",
    "    print(\"hanja2hangeul_table = \", str(hanja2hangeul_table).replace(\", \", \",\\n\"), file=fp)"
   ]
  },
  {
   "cell_type": "code",
   "execution_count": null,
   "metadata": {},
   "outputs": [],
   "source": []
  }
 ],
 "metadata": {
  "kernelspec": {
   "display_name": "Python 3",
   "language": "python",
   "name": "python3"
  },
  "language_info": {
   "codemirror_mode": {
    "name": "ipython",
    "version": 3
   },
   "file_extension": ".py",
   "mimetype": "text/x-python",
   "name": "python",
   "nbconvert_exporter": "python",
   "pygments_lexer": "ipython3",
   "version": "3.9.6"
  }
 },
 "nbformat": 4,
 "nbformat_minor": 2
}
